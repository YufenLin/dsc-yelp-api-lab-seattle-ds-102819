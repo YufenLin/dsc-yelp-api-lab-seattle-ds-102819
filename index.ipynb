{
 "cells": [
  {
   "cell_type": "markdown",
   "metadata": {},
   "source": [
    "# Yelp API - Lab\n",
    "\n",
    "\n",
    "## Introduction \n",
    "\n",
    "We've seen how the Yelp API works and how to create basic visualizations using Folium. It's time to put those skills to work in order to create a working map! Taking things a step further, you'll also independently explore how to perform pagination in order to retrieve a full results set from the Yelp API!\n",
    "\n",
    "## Objectives\n",
    "\n",
    "You will be able to: \n",
    "\n",
    "* Using pagination and multiple functions, gather large amounts of data from an API, parse the data and make sense of it with meaningful analysis\n",
    "* Create maps using Folium\n",
    "\n",
    "## Problem Introduction\n",
    "\n",
    "You've now worked with some API calls, but we have yet to see how to retrieve a more complete dataset in a programmatic manner. Returning to the Yelp API, the [documentation](https://www.yelp.com/developers/documentation/v3/business_search) also provides us details regarding the API limits. These often include details about the number of requests a user is allowed to make within a specified time limit and the maximum number of results to be returned. In this case, we are told that any request has a maximum of 50 results per request and defaults to 20. Furthermore, any search will be limited to a total of 1000 results. To retrieve all 1000 of these results, we would have to page through the results piece by piece, retrieving 50 at a time. Processes such as these are often referred to as pagination.\n",
    "\n",
    "In this lab, you will define a search and then paginate over the results to retrieve all of the results. You'll then parse these responses as a DataFrame (for further exploration) and create a map using Folium to visualize the results geographically.\n",
    "\n",
    "## Part I - Make the Initial Request\n",
    "\n",
    "Start by making an initial request to the Yelp API. Your search must include at least 2 parameters: **term** and **location**. For example, you might search for pizza restaurants in NYC. The term and location is up to you but make the request below."
   ]
  },
  {
   "cell_type": "code",
   "execution_count": 234,
   "metadata": {},
   "outputs": [],
   "source": [
    "import json\n",
    "import requests\n",
    "import time\n",
    "def get_keys(path):\n",
    "    with open(path) as f:\n",
    "        return json.load(f)\n"
   ]
  },
  {
   "cell_type": "code",
   "execution_count": 235,
   "metadata": {},
   "outputs": [
    {
     "name": "stdout",
     "output_type": "stream",
     "text": [
      "<Response [200]>\n",
      "<class 'str'>\n",
      "{\"businesses\": [{\"id\": \"FbR3hCxZI8HPeukE7c-ZJA\", \"alias\": \"kin-len-thai-night-bites-seattle-2\", \"name\": \"Kin Len Thai Night Bites\", \"image_url\": \"https://s3-media4.fl.yelpcdn.com/bphoto/QEbZm0npCjDlJTuMZOSAlA/o.jpg\", \"is_closed\": false, \"url\": \"https://www.yelp.com/biz/kin-len-thai-night-bites-seattle-2?adjust_creative=oPgp5wVewxw6CKu4yAX00g&utm_campaign=yelp_api_v3&utm_medium=api_v3_business_search&utm_source=oPgp5wVewxw6CKu4yAX00g\", \"review_count\": 51, \"categories\": [{\"alias\": \"thai\", \"title\": \"Thai\"}, {\"alias\": \"cocktailbars\", \"title\": \"Cocktail Bars\"}, {\"alias\": \"tapasmallplates\", \"title\": \"Tapas/Small Plates\"}], \"rating\": 4.0, \"coordinates\": {\"latitude\": 47.65115, \"longitude\": -122.35023}, \"transactions\": [\"delivery\", \"pickup\"], \"price\": \"$$\", \"location\": {\"address1\": \"3517 Fremont Ave N\", \"address2\": \"\", \"address3\": null, \"city\": \"Seattle\", \"zip_code\": \"98103\", \"country\": \"US\", \"state\": \"WA\", \"display_address\": [\"3517 Fremont Ave N\", \"Seattle, WA 98103\"]}, \"phone\": \"+12065821825\"\n"
     ]
    }
   ],
   "source": [
    "keys = get_keys(\"/Users/chuhsitseng/.secret/yelp_api.json\")\n",
    "api_key = keys['api_key']\n",
    "term = 'Thai food'\n",
    "location = 'Seattle'\n",
    "SEARCH_LIMIT = 20\n",
    "    \n",
    "url = 'https://api.yelp.com/v3/businesses/search'\n",
    "headers = {\n",
    "        'Authorization': 'Bearer {}'.format(api_key),\n",
    "}\n",
    "url_params = {\n",
    "                'term': term.replace(' ', '+'),\n",
    "                'location': location.replace(' ', '+'),\n",
    "                'limit': SEARCH_LIMIT,\n",
    "}\n",
    "    \n",
    "response = requests.get(url, headers=headers, params=url_params)\n",
    "print(response)\n",
    "print(type(response.text))\n",
    "print(response.text[:1000])"
   ]
  },
  {
   "cell_type": "markdown",
   "metadata": {},
   "source": [
    "## Pagination\n",
    "\n",
    "Now that you have an initial response, you can examine the contents of the JSON container. For example, you might start with ```response.json().keys()```. Here, you'll see a key for `'total'`, which tells you the full number of matching results given your query parameters. Write a loop (or ideally a function) which then makes successive API calls using the offset parameter to retrieve all of the results (or 5000 for a particularly large result set) for the original query. As you do this, be mindful of how you store the data. Your final goal will be to reformat the data concerning the businesses themselves into a pandas DataFrame from the json objects.\n",
    "\n",
    "**Note: be mindful of the API rate limits. You can only make 5000 requests per day and are also can make requests too fast. Start prototyping small before running a loop that could be faulty. You can also use time.sleep(n) to add delays. For more details see https://www.yelp.com/developers/documentation/v3/rate_limiting.**"
   ]
  },
  {
   "cell_type": "code",
   "execution_count": 206,
   "metadata": {},
   "outputs": [
    {
     "data": {
      "text/plain": [
       "dict_keys(['businesses', 'total', 'region'])"
      ]
     },
     "execution_count": 206,
     "metadata": {},
     "output_type": "execute_result"
    }
   ],
   "source": [
    "# Your code here; use a function or loop to retrieve all the results from your original request\n",
    "response.json().keys()"
   ]
  },
  {
   "cell_type": "code",
   "execution_count": 207,
   "metadata": {},
   "outputs": [
    {
     "name": "stdout",
     "output_type": "stream",
     "text": [
      "There are totally 825 Thai foodrestaurant in Seattle\n"
     ]
    }
   ],
   "source": [
    "num = response.json()['total']\n",
    "print(\"There are totally \" + str(num) +\" \"+ term + \"restaurant in \" + location)"
   ]
  },
  {
   "cell_type": "code",
   "execution_count": 208,
   "metadata": {},
   "outputs": [],
   "source": [
    "def request_func(offset, search_limit):\n",
    "    term = 'Thai food'\n",
    "    location = 'Seattle'\n",
    "    \n",
    "    url = 'https://api.yelp.com/v3/businesses/search'\n",
    "    headers = {\n",
    "            'Authorization': 'Bearer {}'.format(api_key),\n",
    "        }\n",
    "    url_params = {\n",
    "                    'term': term.replace(' ', '+'),\n",
    "                    'location': location.replace(' ', '+'),\n",
    "                    'limit': search_limit,\n",
    "                    'offset': offset\n",
    "                }\n",
    "    \n",
    "    response = requests.get(url, headers=headers, params=url_params)\n",
    "#     print(response)\n",
    "#     print(type(response.text))\n",
    "#     print(response.text[:1000])\n",
    "    \n",
    "    return pd.DataFrame.from_dict(response.json()['businesses']),response.json()['total']\n",
    "#     return response.json()['businesses']"
   ]
  },
  {
   "cell_type": "code",
   "execution_count": 211,
   "metadata": {},
   "outputs": [
    {
     "name": "stderr",
     "output_type": "stream",
     "text": [
      "/opt/anaconda3/envs/learn-env/lib/python3.6/site-packages/ipykernel_launcher.py:9: FutureWarning: Sorting because non-concatenation axis is not aligned. A future version\n",
      "of pandas will change to not sort by default.\n",
      "\n",
      "To accept the future behavior, pass 'sort=False'.\n",
      "\n",
      "To retain the current behavior and silence the warning, pass 'sort=True'.\n",
      "\n",
      "  if __name__ == '__main__':\n"
     ]
    }
   ],
   "source": [
    "search_limit = 20\n",
    "search_time = 50\n",
    "\n",
    "df_total = pd.DataFrame()\n",
    "offset = 0\n",
    "count = 0\n",
    "while count < search_time:\n",
    "    df ,total= request_func(offset, search_limit)\n",
    "    df_total = pd.concat([df_total, df])\n",
    "    if(df_total.shape[0] >= total):\n",
    "        break;\n",
    "    offset += search_limit \n",
    "    count += 1\n",
    "    time.sleep(1)"
   ]
  },
  {
   "cell_type": "code",
   "execution_count": 212,
   "metadata": {
    "scrolled": true
   },
   "outputs": [
    {
     "data": {
      "text/html": [
       "<div>\n",
       "<style scoped>\n",
       "    .dataframe tbody tr th:only-of-type {\n",
       "        vertical-align: middle;\n",
       "    }\n",
       "\n",
       "    .dataframe tbody tr th {\n",
       "        vertical-align: top;\n",
       "    }\n",
       "\n",
       "    .dataframe thead th {\n",
       "        text-align: right;\n",
       "    }\n",
       "</style>\n",
       "<table border=\"1\" class=\"dataframe\">\n",
       "  <thead>\n",
       "    <tr style=\"text-align: right;\">\n",
       "      <th></th>\n",
       "      <th>alias</th>\n",
       "      <th>categories</th>\n",
       "      <th>coordinates</th>\n",
       "      <th>display_phone</th>\n",
       "      <th>distance</th>\n",
       "      <th>id</th>\n",
       "      <th>image_url</th>\n",
       "      <th>is_closed</th>\n",
       "      <th>location</th>\n",
       "      <th>name</th>\n",
       "      <th>phone</th>\n",
       "      <th>price</th>\n",
       "      <th>rating</th>\n",
       "      <th>review_count</th>\n",
       "      <th>transactions</th>\n",
       "      <th>url</th>\n",
       "    </tr>\n",
       "  </thead>\n",
       "  <tbody>\n",
       "    <tr>\n",
       "      <td>0</td>\n",
       "      <td>kin-len-thai-night-bites-seattle-2</td>\n",
       "      <td>[{'alias': 'thai', 'title': 'Thai'}, {'alias':...</td>\n",
       "      <td>{'latitude': 47.65115, 'longitude': -122.35023}</td>\n",
       "      <td>(206) 582-1825</td>\n",
       "      <td>3065.911095</td>\n",
       "      <td>FbR3hCxZI8HPeukE7c-ZJA</td>\n",
       "      <td>https://s3-media4.fl.yelpcdn.com/bphoto/QEbZm0...</td>\n",
       "      <td>False</td>\n",
       "      <td>{'address1': '3517 Fremont Ave N', 'address2':...</td>\n",
       "      <td>Kin Len Thai Night Bites</td>\n",
       "      <td>+12065821825</td>\n",
       "      <td>$$</td>\n",
       "      <td>4.0</td>\n",
       "      <td>51</td>\n",
       "      <td>[delivery, pickup]</td>\n",
       "      <td>https://www.yelp.com/biz/kin-len-thai-night-bi...</td>\n",
       "    </tr>\n",
       "    <tr>\n",
       "      <td>1</td>\n",
       "      <td>buddha-ruksa-seattle</td>\n",
       "      <td>[{'alias': 'thai', 'title': 'Thai'}]</td>\n",
       "      <td>{'latitude': 47.564769, 'longitude': -122.377232}</td>\n",
       "      <td>(206) 937-7676</td>\n",
       "      <td>7434.307052</td>\n",
       "      <td>Fnn8DbblPlC-gtiFTrUyEw</td>\n",
       "      <td>https://s3-media4.fl.yelpcdn.com/bphoto/E5gB5Q...</td>\n",
       "      <td>False</td>\n",
       "      <td>{'address1': '3520 SW Genesee St', 'address2':...</td>\n",
       "      <td>Buddha Ruksa</td>\n",
       "      <td>+12069377676</td>\n",
       "      <td>$$</td>\n",
       "      <td>4.0</td>\n",
       "      <td>886</td>\n",
       "      <td>[]</td>\n",
       "      <td>https://www.yelp.com/biz/buddha-ruksa-seattle?...</td>\n",
       "    </tr>\n",
       "    <tr>\n",
       "      <td>2</td>\n",
       "      <td>pestle-rock-seattle</td>\n",
       "      <td>[{'alias': 'thai', 'title': 'Thai'}, {'alias':...</td>\n",
       "      <td>{'latitude': 47.6685, 'longitude': -122.38653}</td>\n",
       "      <td>(206) 466-6671</td>\n",
       "      <td>6127.199186</td>\n",
       "      <td>3jYycHbe2BHzTzh8KZK_tg</td>\n",
       "      <td>https://s3-media3.fl.yelpcdn.com/bphoto/LBrLCv...</td>\n",
       "      <td>False</td>\n",
       "      <td>{'address1': '2305 NW Market St', 'address2': ...</td>\n",
       "      <td>Pestle Rock</td>\n",
       "      <td>+12064666671</td>\n",
       "      <td>$$</td>\n",
       "      <td>4.5</td>\n",
       "      <td>731</td>\n",
       "      <td>[pickup]</td>\n",
       "      <td>https://www.yelp.com/biz/pestle-rock-seattle?a...</td>\n",
       "    </tr>\n",
       "    <tr>\n",
       "      <td>3</td>\n",
       "      <td>krungthep-thai-cuisine-seattle-2</td>\n",
       "      <td>[{'alias': 'thai', 'title': 'Thai'}]</td>\n",
       "      <td>{'latitude': 47.48319, 'longitude': -122.3333321}</td>\n",
       "      <td>(206) 829-9426</td>\n",
       "      <td>15815.975666</td>\n",
       "      <td>JlHk77mTlp3xzrDHeYyyfA</td>\n",
       "      <td>https://s3-media4.fl.yelpcdn.com/bphoto/8LFqCW...</td>\n",
       "      <td>False</td>\n",
       "      <td>{'address1': '13260 1st Ave S', 'address2': 'S...</td>\n",
       "      <td>Krungthep Thai Cuisine</td>\n",
       "      <td>+12068299426</td>\n",
       "      <td>$$</td>\n",
       "      <td>4.5</td>\n",
       "      <td>439</td>\n",
       "      <td>[delivery, pickup]</td>\n",
       "      <td>https://www.yelp.com/biz/krungthep-thai-cuisin...</td>\n",
       "    </tr>\n",
       "    <tr>\n",
       "      <td>4</td>\n",
       "      <td>amazing-thai-cuisine-seattle</td>\n",
       "      <td>[{'alias': 'thai', 'title': 'Thai'}]</td>\n",
       "      <td>{'latitude': 47.66679, 'longitude': -122.31707}</td>\n",
       "      <td>(206) 528-0102</td>\n",
       "      <td>4804.947405</td>\n",
       "      <td>OiE_FU-Q65Qc5_NemKN9FA</td>\n",
       "      <td>https://s3-media4.fl.yelpcdn.com/bphoto/vXL_K3...</td>\n",
       "      <td>False</td>\n",
       "      <td>{'address1': '5210 Roosevelt Way NE', 'address...</td>\n",
       "      <td>Amazing Thai Cuisine</td>\n",
       "      <td>+12065280102</td>\n",
       "      <td>$</td>\n",
       "      <td>4.5</td>\n",
       "      <td>552</td>\n",
       "      <td>[delivery, pickup]</td>\n",
       "      <td>https://www.yelp.com/biz/amazing-thai-cuisine-...</td>\n",
       "    </tr>\n",
       "  </tbody>\n",
       "</table>\n",
       "</div>"
      ],
      "text/plain": [
       "                                alias  \\\n",
       "0  kin-len-thai-night-bites-seattle-2   \n",
       "1                buddha-ruksa-seattle   \n",
       "2                 pestle-rock-seattle   \n",
       "3    krungthep-thai-cuisine-seattle-2   \n",
       "4        amazing-thai-cuisine-seattle   \n",
       "\n",
       "                                          categories  \\\n",
       "0  [{'alias': 'thai', 'title': 'Thai'}, {'alias':...   \n",
       "1               [{'alias': 'thai', 'title': 'Thai'}]   \n",
       "2  [{'alias': 'thai', 'title': 'Thai'}, {'alias':...   \n",
       "3               [{'alias': 'thai', 'title': 'Thai'}]   \n",
       "4               [{'alias': 'thai', 'title': 'Thai'}]   \n",
       "\n",
       "                                         coordinates   display_phone  \\\n",
       "0    {'latitude': 47.65115, 'longitude': -122.35023}  (206) 582-1825   \n",
       "1  {'latitude': 47.564769, 'longitude': -122.377232}  (206) 937-7676   \n",
       "2     {'latitude': 47.6685, 'longitude': -122.38653}  (206) 466-6671   \n",
       "3  {'latitude': 47.48319, 'longitude': -122.3333321}  (206) 829-9426   \n",
       "4    {'latitude': 47.66679, 'longitude': -122.31707}  (206) 528-0102   \n",
       "\n",
       "       distance                      id  \\\n",
       "0   3065.911095  FbR3hCxZI8HPeukE7c-ZJA   \n",
       "1   7434.307052  Fnn8DbblPlC-gtiFTrUyEw   \n",
       "2   6127.199186  3jYycHbe2BHzTzh8KZK_tg   \n",
       "3  15815.975666  JlHk77mTlp3xzrDHeYyyfA   \n",
       "4   4804.947405  OiE_FU-Q65Qc5_NemKN9FA   \n",
       "\n",
       "                                           image_url  is_closed  \\\n",
       "0  https://s3-media4.fl.yelpcdn.com/bphoto/QEbZm0...      False   \n",
       "1  https://s3-media4.fl.yelpcdn.com/bphoto/E5gB5Q...      False   \n",
       "2  https://s3-media3.fl.yelpcdn.com/bphoto/LBrLCv...      False   \n",
       "3  https://s3-media4.fl.yelpcdn.com/bphoto/8LFqCW...      False   \n",
       "4  https://s3-media4.fl.yelpcdn.com/bphoto/vXL_K3...      False   \n",
       "\n",
       "                                            location  \\\n",
       "0  {'address1': '3517 Fremont Ave N', 'address2':...   \n",
       "1  {'address1': '3520 SW Genesee St', 'address2':...   \n",
       "2  {'address1': '2305 NW Market St', 'address2': ...   \n",
       "3  {'address1': '13260 1st Ave S', 'address2': 'S...   \n",
       "4  {'address1': '5210 Roosevelt Way NE', 'address...   \n",
       "\n",
       "                       name         phone price  rating  review_count  \\\n",
       "0  Kin Len Thai Night Bites  +12065821825    $$     4.0            51   \n",
       "1              Buddha Ruksa  +12069377676    $$     4.0           886   \n",
       "2               Pestle Rock  +12064666671    $$     4.5           731   \n",
       "3    Krungthep Thai Cuisine  +12068299426    $$     4.5           439   \n",
       "4      Amazing Thai Cuisine  +12065280102     $     4.5           552   \n",
       "\n",
       "         transactions                                                url  \n",
       "0  [delivery, pickup]  https://www.yelp.com/biz/kin-len-thai-night-bi...  \n",
       "1                  []  https://www.yelp.com/biz/buddha-ruksa-seattle?...  \n",
       "2            [pickup]  https://www.yelp.com/biz/pestle-rock-seattle?a...  \n",
       "3  [delivery, pickup]  https://www.yelp.com/biz/krungthep-thai-cuisin...  \n",
       "4  [delivery, pickup]  https://www.yelp.com/biz/amazing-thai-cuisine-...  "
      ]
     },
     "execution_count": 212,
     "metadata": {},
     "output_type": "execute_result"
    }
   ],
   "source": [
    "df_total.head()"
   ]
  },
  {
   "cell_type": "markdown",
   "metadata": {},
   "source": [
    "## Exploratory Analysis\n",
    "\n",
    "Take the restaurants from the previous question and do an initial exploratory analysis. At minimum, this should include looking at the distribution of features such as price, rating and number of reviews as well as the relations between these dimensions."
   ]
  },
  {
   "cell_type": "code",
   "execution_count": 247,
   "metadata": {},
   "outputs": [],
   "source": [
    "# Your code here\n",
    "import matplotlib.pyplot as plt\n",
    "%matplotlib inline"
   ]
  },
  {
   "cell_type": "code",
   "execution_count": 267,
   "metadata": {},
   "outputs": [],
   "source": [
    "import pandas as pd\n",
    "\n",
    "df = pd.DataFrame.from_dict(response.json()['businesses'])"
   ]
  },
  {
   "cell_type": "code",
   "execution_count": 268,
   "metadata": {},
   "outputs": [],
   "source": [
    "df['price'] = df['price'].map({\"$\": 1, \"$$\":2, \"$$$\": 3, \"$$$$\":4})\n",
    "df['price'] = df['price'].fillna(value=0)"
   ]
  },
  {
   "cell_type": "code",
   "execution_count": 270,
   "metadata": {},
   "outputs": [
    {
     "data": {
      "image/png": "[encoded data removed]",
      "text/plain": [
       "<Figure size 432x288 with 1 Axes>"
      ]
     },
     "metadata": {
      "needs_background": "light"
     },
     "output_type": "display_data"
    }
   ],
   "source": [
    "df['price'].hist(bins=4);"
   ]
  },
  {
   "cell_type": "code",
   "execution_count": null,
   "metadata": {},
   "outputs": [],
   "source": [
    "fig, ax = plt.subplots()\n",
    "\n",
    "x = np.random.normal(0, 10, size=1000)\n",
    "\n",
    "\n",
    "ax.hist(x, bins=(20));"
   ]
  },
  {
   "cell_type": "code",
   "execution_count": 293,
   "metadata": {},
   "outputs": [
    {
     "data": {
      "image/png": "[encoded data removed]",
      "text/plain": [
       "<Figure size 432x288 with 1 Axes>"
      ]
     },
     "metadata": {
      "needs_background": "light"
     },
     "output_type": "display_data"
    }
   ],
   "source": [
    "plt.scatter(df['price'], df['rating']);"
   ]
  },
  {
   "cell_type": "markdown",
   "metadata": {},
   "source": [
    "## Mapping\n",
    "\n",
    "Look at the initial Yelp example and try and make a map using Folium of the restaurants you retrieved. Be sure to also add popups to the markers giving some basic information such as name, rating and price."
   ]
  },
  {
   "cell_type": "code",
   "execution_count": null,
   "metadata": {},
   "outputs": [],
   "source": [
    "# Your code here"
   ]
  },
  {
   "cell_type": "markdown",
   "metadata": {},
   "source": [
    "## Summary\n",
    "\n",
    "Nice work! In this lab, you've made multiple API calls to Yelp in order to paginate through a results set, performing some basic exploratory analysis and then creating a nice interactive map to display the results using Folium! Well done!"
   ]
  },
  {
   "cell_type": "code",
   "execution_count": 17,
   "metadata": {
    "scrolled": true
   },
   "outputs": [
    {
     "name": "stdout",
     "output_type": "stream",
     "text": [
      "20\n",
      "Index(['id', 'alias', 'name', 'image_url', 'is_closed', 'url', 'review_count',\n",
      "       'categories', 'rating', 'coordinates', 'transactions', 'price',\n",
      "       'location', 'phone', 'display_phone', 'distance'],\n",
      "      dtype='object')\n",
      "(20, 16)\n"
     ]
    },
    {
     "data": {
      "text/html": [
       "<div>\n",
       "<style scoped>\n",
       "    .dataframe tbody tr th:only-of-type {\n",
       "        vertical-align: middle;\n",
       "    }\n",
       "\n",
       "    .dataframe tbody tr th {\n",
       "        vertical-align: top;\n",
       "    }\n",
       "\n",
       "    .dataframe thead th {\n",
       "        text-align: right;\n",
       "    }\n",
       "</style>\n",
       "<table border=\"1\" class=\"dataframe\">\n",
       "  <thead>\n",
       "    <tr style=\"text-align: right;\">\n",
       "      <th></th>\n",
       "      <th>id</th>\n",
       "      <th>alias</th>\n",
       "      <th>name</th>\n",
       "      <th>image_url</th>\n",
       "      <th>is_closed</th>\n",
       "      <th>url</th>\n",
       "      <th>review_count</th>\n",
       "      <th>categories</th>\n",
       "      <th>rating</th>\n",
       "      <th>coordinates</th>\n",
       "      <th>transactions</th>\n",
       "      <th>price</th>\n",
       "      <th>location</th>\n",
       "      <th>phone</th>\n",
       "      <th>display_phone</th>\n",
       "      <th>distance</th>\n",
       "    </tr>\n",
       "  </thead>\n",
       "  <tbody>\n",
       "    <tr>\n",
       "      <td>0</td>\n",
       "      <td>3jYycHbe2BHzTzh8KZK_tg</td>\n",
       "      <td>pestle-rock-seattle</td>\n",
       "      <td>Pestle Rock</td>\n",
       "      <td>https://s3-media3.fl.yelpcdn.com/bphoto/LBrLCv...</td>\n",
       "      <td>False</td>\n",
       "      <td>https://www.yelp.com/biz/pestle-rock-seattle?a...</td>\n",
       "      <td>731</td>\n",
       "      <td>[{'alias': 'thai', 'title': 'Thai'}, {'alias':...</td>\n",
       "      <td>4.5</td>\n",
       "      <td>{'latitude': 47.6685, 'longitude': -122.38653}</td>\n",
       "      <td>[pickup]</td>\n",
       "      <td>$$</td>\n",
       "      <td>{'address1': '2305 NW Market St', 'address2': ...</td>\n",
       "      <td>+12064666671</td>\n",
       "      <td>(206) 466-6671</td>\n",
       "      <td>6127.199186</td>\n",
       "    </tr>\n",
       "    <tr>\n",
       "      <td>1</td>\n",
       "      <td>FbR3hCxZI8HPeukE7c-ZJA</td>\n",
       "      <td>kin-len-thai-night-bites-seattle-2</td>\n",
       "      <td>Kin Len Thai Night Bites</td>\n",
       "      <td>https://s3-media4.fl.yelpcdn.com/bphoto/QEbZm0...</td>\n",
       "      <td>False</td>\n",
       "      <td>https://www.yelp.com/biz/kin-len-thai-night-bi...</td>\n",
       "      <td>51</td>\n",
       "      <td>[{'alias': 'thai', 'title': 'Thai'}, {'alias':...</td>\n",
       "      <td>4.0</td>\n",
       "      <td>{'latitude': 47.65115, 'longitude': -122.35023}</td>\n",
       "      <td>[delivery, pickup]</td>\n",
       "      <td>$$</td>\n",
       "      <td>{'address1': '3517 Fremont Ave N', 'address2':...</td>\n",
       "      <td>+12065821825</td>\n",
       "      <td>(206) 582-1825</td>\n",
       "      <td>3065.911095</td>\n",
       "    </tr>\n",
       "    <tr>\n",
       "      <td>2</td>\n",
       "      <td>JlHk77mTlp3xzrDHeYyyfA</td>\n",
       "      <td>krungthep-thai-cuisine-seattle-2</td>\n",
       "      <td>Krungthep Thai Cuisine</td>\n",
       "      <td>https://s3-media4.fl.yelpcdn.com/bphoto/8LFqCW...</td>\n",
       "      <td>False</td>\n",
       "      <td>https://www.yelp.com/biz/krungthep-thai-cuisin...</td>\n",
       "      <td>439</td>\n",
       "      <td>[{'alias': 'thai', 'title': 'Thai'}]</td>\n",
       "      <td>4.5</td>\n",
       "      <td>{'latitude': 47.48319, 'longitude': -122.3333321}</td>\n",
       "      <td>[delivery, pickup]</td>\n",
       "      <td>$$</td>\n",
       "      <td>{'address1': '13260 1st Ave S', 'address2': 'S...</td>\n",
       "      <td>+12068299426</td>\n",
       "      <td>(206) 829-9426</td>\n",
       "      <td>15815.975666</td>\n",
       "    </tr>\n",
       "    <tr>\n",
       "      <td>3</td>\n",
       "      <td>OiE_FU-Q65Qc5_NemKN9FA</td>\n",
       "      <td>amazing-thai-cuisine-seattle</td>\n",
       "      <td>Amazing Thai Cuisine</td>\n",
       "      <td>https://s3-media4.fl.yelpcdn.com/bphoto/vXL_K3...</td>\n",
       "      <td>False</td>\n",
       "      <td>https://www.yelp.com/biz/amazing-thai-cuisine-...</td>\n",
       "      <td>552</td>\n",
       "      <td>[{'alias': 'thai', 'title': 'Thai'}]</td>\n",
       "      <td>4.5</td>\n",
       "      <td>{'latitude': 47.66679, 'longitude': -122.31707}</td>\n",
       "      <td>[delivery, pickup]</td>\n",
       "      <td>$</td>\n",
       "      <td>{'address1': '5210 Roosevelt Way NE', 'address...</td>\n",
       "      <td>+12065280102</td>\n",
       "      <td>(206) 528-0102</td>\n",
       "      <td>4804.947405</td>\n",
       "    </tr>\n",
       "    <tr>\n",
       "      <td>4</td>\n",
       "      <td>qj-J9ZtSHVsrwsXzatU7fA</td>\n",
       "      <td>cherry-street-thai-seattle</td>\n",
       "      <td>Cherry Street Thai</td>\n",
       "      <td>https://s3-media1.fl.yelpcdn.com/bphoto/NbEihl...</td>\n",
       "      <td>False</td>\n",
       "      <td>https://www.yelp.com/biz/cherry-street-thai-se...</td>\n",
       "      <td>261</td>\n",
       "      <td>[{'alias': 'thai', 'title': 'Thai'}]</td>\n",
       "      <td>4.5</td>\n",
       "      <td>{'latitude': 47.6081545, 'longitude': -122.296...</td>\n",
       "      <td>[]</td>\n",
       "      <td>$$</td>\n",
       "      <td>{'address1': '2724 E Cherry St', 'address2': '...</td>\n",
       "      <td>+12063256660</td>\n",
       "      <td>(206) 325-6660</td>\n",
       "      <td>3486.711641</td>\n",
       "    </tr>\n",
       "  </tbody>\n",
       "</table>\n",
       "</div>"
      ],
      "text/plain": [
       "                       id                               alias  \\\n",
       "0  3jYycHbe2BHzTzh8KZK_tg                 pestle-rock-seattle   \n",
       "1  FbR3hCxZI8HPeukE7c-ZJA  kin-len-thai-night-bites-seattle-2   \n",
       "2  JlHk77mTlp3xzrDHeYyyfA    krungthep-thai-cuisine-seattle-2   \n",
       "3  OiE_FU-Q65Qc5_NemKN9FA        amazing-thai-cuisine-seattle   \n",
       "4  qj-J9ZtSHVsrwsXzatU7fA          cherry-street-thai-seattle   \n",
       "\n",
       "                       name  \\\n",
       "0               Pestle Rock   \n",
       "1  Kin Len Thai Night Bites   \n",
       "2    Krungthep Thai Cuisine   \n",
       "3      Amazing Thai Cuisine   \n",
       "4        Cherry Street Thai   \n",
       "\n",
       "                                           image_url  is_closed  \\\n",
       "0  https://s3-media3.fl.yelpcdn.com/bphoto/LBrLCv...      False   \n",
       "1  https://s3-media4.fl.yelpcdn.com/bphoto/QEbZm0...      False   \n",
       "2  https://s3-media4.fl.yelpcdn.com/bphoto/8LFqCW...      False   \n",
       "3  https://s3-media4.fl.yelpcdn.com/bphoto/vXL_K3...      False   \n",
       "4  https://s3-media1.fl.yelpcdn.com/bphoto/NbEihl...      False   \n",
       "\n",
       "                                                 url  review_count  \\\n",
       "0  https://www.yelp.com/biz/pestle-rock-seattle?a...           731   \n",
       "1  https://www.yelp.com/biz/kin-len-thai-night-bi...            51   \n",
       "2  https://www.yelp.com/biz/krungthep-thai-cuisin...           439   \n",
       "3  https://www.yelp.com/biz/amazing-thai-cuisine-...           552   \n",
       "4  https://www.yelp.com/biz/cherry-street-thai-se...           261   \n",
       "\n",
       "                                          categories  rating  \\\n",
       "0  [{'alias': 'thai', 'title': 'Thai'}, {'alias':...     4.5   \n",
       "1  [{'alias': 'thai', 'title': 'Thai'}, {'alias':...     4.0   \n",
       "2               [{'alias': 'thai', 'title': 'Thai'}]     4.5   \n",
       "3               [{'alias': 'thai', 'title': 'Thai'}]     4.5   \n",
       "4               [{'alias': 'thai', 'title': 'Thai'}]     4.5   \n",
       "\n",
       "                                         coordinates        transactions  \\\n",
       "0     {'latitude': 47.6685, 'longitude': -122.38653}            [pickup]   \n",
       "1    {'latitude': 47.65115, 'longitude': -122.35023}  [delivery, pickup]   \n",
       "2  {'latitude': 47.48319, 'longitude': -122.3333321}  [delivery, pickup]   \n",
       "3    {'latitude': 47.66679, 'longitude': -122.31707}  [delivery, pickup]   \n",
       "4  {'latitude': 47.6081545, 'longitude': -122.296...                  []   \n",
       "\n",
       "  price                                           location         phone  \\\n",
       "0    $$  {'address1': '2305 NW Market St', 'address2': ...  +12064666671   \n",
       "1    $$  {'address1': '3517 Fremont Ave N', 'address2':...  +12065821825   \n",
       "2    $$  {'address1': '13260 1st Ave S', 'address2': 'S...  +12068299426   \n",
       "3     $  {'address1': '5210 Roosevelt Way NE', 'address...  +12065280102   \n",
       "4    $$  {'address1': '2724 E Cherry St', 'address2': '...  +12063256660   \n",
       "\n",
       "    display_phone      distance  \n",
       "0  (206) 466-6671   6127.199186  \n",
       "1  (206) 582-1825   3065.911095  \n",
       "2  (206) 829-9426  15815.975666  \n",
       "3  (206) 528-0102   4804.947405  \n",
       "4  (206) 325-6660   3486.711641  "
      ]
     },
     "execution_count": 17,
     "metadata": {},
     "output_type": "execute_result"
    }
   ],
   "source": [
    "import pandas as pd\n",
    "\n",
    "df = pd.DataFrame.from_dict(response.json()['businesses'])\n",
    "print(len(df)) #Print how many rows\n",
    "print(df.columns) #Print column names\n",
    "print(df.shape)\n",
    "df.head()"
   ]
  }
 ],
 "metadata": {
  "kernelspec": {
   "display_name": "Python 3",
   "language": "python",
   "name": "python3"
  },
  "language_info": {
   "codemirror_mode": {
    "name": "ipython",
    "version": 3
   },
   "file_extension": ".py",
   "mimetype": "text/x-python",
   "name": "python",
   "nbconvert_exporter": "python",
   "pygments_lexer": "ipython3",
   "version": "3.6.9"
  },
  "toc": {
   "base_numbering": 1,
   "nav_menu": {},
   "number_sections": true,
   "sideBar": true,
   "skip_h1_title": false,
   "title_cell": "Table of Contents",
   "title_sidebar": "Contents",
   "toc_cell": false,
   "toc_position": {},
   "toc_section_display": true,
   "toc_window_display": false
  }
 },
 "nbformat": 4,
 "nbformat_minor": 2
}
